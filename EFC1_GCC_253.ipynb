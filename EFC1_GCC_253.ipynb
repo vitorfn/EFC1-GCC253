{
  "nbformat": 4,
  "nbformat_minor": 0,
  "metadata": {
    "colab": {
      "name": "EFC1_GCC_253.ipynb",
      "provenance": [],
      "collapsed_sections": [],
      "toc_visible": true,
      "include_colab_link": true
    },
    "kernelspec": {
      "name": "python3",
      "display_name": "Python 3"
    },
    "language_info": {
      "name": "python"
    }
  },
  "cells": [
    {
      "cell_type": "markdown",
      "metadata": {
        "id": "view-in-github",
        "colab_type": "text"
      },
      "source": [
        "<a href=\"https://colab.research.google.com/github/vitorfn/EFC1-GCC253/blob/main/EFC1_GCC_253.ipynb\" target=\"_parent\"><img src=\"https://colab.research.google.com/assets/colab-badge.svg\" alt=\"Open In Colab\"/></a>"
      ]
    },
    {
      "cell_type": "markdown",
      "source": [
        "# EFC1 GCC253 - Complexidade e Projeto de Algoritmos\n",
        "\n",
        "\n",
        "> **Prof.: Douglas H. S. Abreu**\n",
        "\n",
        "\n",
        "**Aluno**: Vítor Ferreira Nunes\n",
        "\n",
        "**Matricula:** 201810284\n",
        "\n",
        "**Turma**: 10A\n",
        "\n",
        "Link do repositório GitHub: https://github.com/vitorfn/EFC1-GCC253\n",
        "\n",
        "● O trabalho deve ser feito em grupos de no máximo 2 componentes (todos devem enviar a atividade no Campus Virtual)\n",
        "\n",
        "● Trabalhos entregues após a data limite não serão aceitos\n",
        "\n",
        "● Data limite de entrega: 24 de Julho de 2022 : 23h55m\n",
        "\n",
        "● Enviar o trabalho para o campus virtual, do seguinte modo: link do repositório GitHub e do Colab para acesso ao Notebook. A Documentação deve estar no readme\n",
        "\n",
        "● O trabalho deve ser desenvolvido no modelo Notebook utilizando a linguagem Python"
      ],
      "metadata": {
        "id": "XAdlKnDBj5uB"
      }
    },
    {
      "cell_type": "markdown",
      "source": [
        "# Importações e Variáveis globais"
      ],
      "metadata": {
        "id": "J3d6JlRUxREN"
      }
    },
    {
      "cell_type": "code",
      "source": [
        "import numpy as np\n",
        "import matplotlib.pyplot as plt\n",
        "import time\n",
        "import random\n",
        "import sys"
      ],
      "metadata": {
        "id": "Ur1DVGQAxac4"
      },
      "execution_count": null,
      "outputs": []
    },
    {
      "cell_type": "code",
      "source": [
        "def gera_arranjos_aleatorio(numElem):\n",
        "  A=np.random.randint(0, 1000, (numElem))\n",
        "  return A"
      ],
      "metadata": {
        "id": "UzoqMFKSO-bp"
      },
      "execution_count": null,
      "outputs": []
    },
    {
      "cell_type": "code",
      "source": [
        "def gera_arranjo_ordenado(numElem):\n",
        "  A=np.arange(start=1, stop=numElem, step=5)\n",
        "  return A"
      ],
      "metadata": {
        "id": "N1QL9P-NPHQH"
      },
      "execution_count": null,
      "outputs": []
    },
    {
      "cell_type": "code",
      "source": [
        "def gera_arranjo_desordenado(numElem):\n",
        "  A=np.arange(start=numElem, stop=0, step=-5)\n",
        "  return A"
      ],
      "metadata": {
        "id": "mZ5aniZ_PKEb"
      },
      "execution_count": null,
      "outputs": []
    },
    {
      "cell_type": "code",
      "source": [
        "n_elementos = np.array([i for i in range(5, 1000, 5)])"
      ],
      "metadata": {
        "id": "2eriv3reINq0"
      },
      "execution_count": null,
      "outputs": []
    },
    {
      "cell_type": "markdown",
      "source": [
        "# Funções de Ordenação\n",
        "\n",
        "> Utilize este espaço para definir as funções de ordenação vista em sala de aula\n",
        "\n"
      ],
      "metadata": {
        "id": "kPNpzNYwkKAO"
      }
    },
    {
      "cell_type": "markdown",
      "source": [
        "##  Insertion Sort\n"
      ],
      "metadata": {
        "id": "nEw1UEsmoKMg"
      }
    },
    {
      "cell_type": "code",
      "source": [
        "def insertionSort(array):\n",
        "  ini = time.time()\n",
        "  nCont = 0\n",
        "  for i in range(1,len(array)):\n",
        "    nCont +=1\n",
        "    chave = array[i]\n",
        "    j = i-1\n",
        "\n",
        "    while j >= 0 and array[j] > chave:\n",
        "      nCont +=1\n",
        "      array[j+1] = array[j]\n",
        "      j = j-1\n",
        "    \n",
        "    array[j+1] = chave\n",
        "    nCont += 1\n",
        "    \n",
        "  fim = time.time()\n",
        "  tempo_exec = fim - ini\n",
        "    \n",
        "  return array, nCont, tempo_exec"
      ],
      "metadata": {
        "id": "kbOrhdB-j_px"
      },
      "execution_count": null,
      "outputs": []
    },
    {
      "cell_type": "markdown",
      "source": [
        "##  Merge Sort\n"
      ],
      "metadata": {
        "id": "9a-wJwU-wtmQ"
      }
    },
    {
      "cell_type": "code",
      "source": [
        "def merge(array, start, med, end):\n",
        "    aux1 = med - start + 1\n",
        "    aux2 = end - med\n",
        "    esq = [0] * (aux1)\n",
        "    dir = [0] * (aux2)\n",
        "    nComp = 0\n",
        "\n",
        "    for i in range(0, aux1):\n",
        "        nComp += 1\n",
        "        esq[i] = array[start + i]\n",
        "    nComp += 1 \n",
        "\n",
        "    for j in range(0, aux2):\n",
        "        nComp += 1\n",
        "        dir[j] = array[med + 1 + j]\n",
        "    nComp += 1 \n",
        "    i = 0   \n",
        "    j = 0   \n",
        "    aux3 = start   \n",
        "\n",
        "\n",
        "    while i < aux1 and j < aux2:\n",
        "        nComp += 2 \n",
        "        if dir[j] >= esq[i]:\n",
        "            array[aux3] = esq[i]\n",
        "            i += 1\n",
        "        else:\n",
        "            array[aux3] = dir[j]\n",
        "            j += 1\n",
        "        aux3 += 1\n",
        "    nComp += 2 \n",
        "\n",
        "    while aux1 > i:\n",
        "        nComp += 1\n",
        "        array[aux3] = esq[i]\n",
        "        aux3 += 1\n",
        "        i += 1\n",
        "    nComp += 1\n",
        "\n",
        "    while aux2 > j:\n",
        "        nComp += 1\n",
        "        array[aux3] = dir[j]\n",
        "        aux3 += 1\n",
        "        j += 1\n",
        "    nComp += 1 \n",
        "    return nComp\n",
        " \n",
        "def mergeSort(array, start, end):\n",
        "  ini = time.time()\n",
        "  nComp = 0\n",
        "  \n",
        "  if start < end:\n",
        "      med = start + (end - start) // 2\n",
        "      \n",
        "      contador = mergeSort(array, start, med)\n",
        "      nComp += contador[2]\n",
        "      \n",
        "      contador == mergeSort(array, med + 1, end)\n",
        "      nComp += contador[2]\n",
        "      \n",
        "      nComp += merge(array, start, med, end)\n",
        "  fim = time.time()\n",
        "  tempo_exec = fim - ini\n",
        "  \n",
        "  return array,tempo_exec,nComp"
      ],
      "metadata": {
        "id": "8cgIJ_4EwbPN"
      },
      "execution_count": null,
      "outputs": []
    },
    {
      "cell_type": "markdown",
      "source": [
        "##  Selection Sort\n"
      ],
      "metadata": {
        "id": "8dWpeYUvw-wU"
      }
    },
    {
      "cell_type": "code",
      "source": [
        "def selectionSort(array):\n",
        "    cont = 0\n",
        "    ini = time.time();    \n",
        "\n",
        "    for i in range(len(array)):        \n",
        "        for j in range(i+1,len(array)):\n",
        "            cont = cont + 1\n",
        "            if(array[j] < array[i]):\n",
        "                array[i], array[j] = array[j], array[i]   \n",
        "    \n",
        "    fim = time.time()\n",
        "    tempo_exec = fim - ini\n",
        "    return array, tempo_exec, cont"
      ],
      "metadata": {
        "id": "vNgUDShawygu"
      },
      "execution_count": null,
      "outputs": []
    },
    {
      "cell_type": "markdown",
      "source": [
        "##  Bubble Sort\n"
      ],
      "metadata": {
        "id": "zNI1kX0yyDrs"
      }
    },
    {
      "cell_type": "code",
      "source": [
        "def bubbleSort(array):\n",
        "  ini = time.time()\n",
        "  aux = 1\n",
        "  cont = 0\n",
        "\n",
        "  for i in range(len(array)-1):\n",
        "    if aux == 1:\n",
        "      aux = 0\n",
        "      for j in range(len(array - i) - 1):\n",
        "        if array[j+1] < array[j]:\n",
        "          cont = cont + 1\n",
        "          aux2 = array[j+1]\n",
        "          array[j+1] = array[j]\n",
        "          array[j] = aux2\n",
        "          aux = 1\n",
        "\n",
        "  fim = time.time()\n",
        "  tempo_exec = fim - ini\n",
        "  \n",
        "  return array, tempo_exec, cont"
      ],
      "metadata": {
        "id": "6X_zk1yWxMQS"
      },
      "execution_count": null,
      "outputs": []
    },
    {
      "cell_type": "markdown",
      "source": [
        "## Heap Sort"
      ],
      "metadata": {
        "id": "vk4vOTkKyLB-"
      }
    },
    {
      "cell_type": "code",
      "source": [
        "def heapify(array, start, aux1):\n",
        "\tmaior = aux1\n",
        "\taux2 = 2 * aux1 + 1\n",
        "\taux3 = 2 * aux1 + 2\n",
        "\n",
        "\tif aux2 < start and array[maior] < array[aux2]:\n",
        "\t\tmaior = aux2\n",
        "\n",
        "\tif aux3 < start and array[maior] < array[aux3]:\n",
        "\t\tmaior = aux3\n",
        "\n",
        "\tif maior != aux1:\n",
        "\t\tarray[aux1], array[maior] = array[maior], array[aux1]\n",
        "\t\theapify(array, start, maior)\n",
        "\n",
        "def heapSort(array):\n",
        "  ini = time.time()\n",
        "  start = len(array)\n",
        "  cont = 0\n",
        "\n",
        "  for aux1 in range(start // 2 -1, -1, -1):\n",
        "    heapify(array, start, aux1)\n",
        "    cont += 1\n",
        "\n",
        "  for aux1 in range(start -1, 0, -1):\n",
        "    array[aux1], array[0] = array[0], array[aux1] \n",
        "    heapify(array, aux1, 0)\n",
        "    cont += 1\n",
        "\n",
        "  fim = time.time()\n",
        "  tempo_exec = fim - ini\n",
        "  return array, tempo_exec, cont"
      ],
      "metadata": {
        "id": "39a7xXzLyH9g"
      },
      "execution_count": null,
      "outputs": []
    },
    {
      "cell_type": "markdown",
      "source": [
        "## Quick Sort\n",
        "\n",
        "> pivo = *A[A-comprimento]*"
      ],
      "metadata": {
        "id": "fFiGho5CyU3t"
      }
    },
    {
      "cell_type": "code",
      "source": [
        "def partition(array, start, end, nComp):\n",
        "  aux1 = array[end]\n",
        "  i = start - 1\n",
        "  \n",
        "  for j in range(start, end - 1):\n",
        "    if aux1 >= array[j]:\n",
        "      nComp = nComp + 1\n",
        "      i = i + 1\n",
        "      array[i], array[j] = array[j], array[i]\n",
        "  \n",
        "  array[i+1], array[end] = array[end], array[i+1]\n",
        "  return (i + 1), nComp\n",
        "\n",
        "def quick(array, start, end, nComp):\n",
        "  if start < end:\n",
        "    nComp = nComp + 1\n",
        "    meio, nComp = partition(array, start, end, nComp)\n",
        "    quick(array,start,meio-1, nComp)\n",
        "    quick(array,meio+1,end, nComp)\n",
        "  return array, nComp\n",
        "\n",
        "def quickSort(array):\n",
        "  ini = time.time()\n",
        "  nComp = 1\n",
        "  array, nComp = quick(array, 0, len(array)-1, nComp)\n",
        "  fim = time.time()\n",
        "  temp_exec = fim - ini\n",
        "  return array, temp_exec, nComp"
      ],
      "metadata": {
        "id": "1Ie_N5CRyKY7"
      },
      "execution_count": null,
      "outputs": []
    },
    {
      "cell_type": "markdown",
      "source": [
        "# Questões"
      ],
      "metadata": {
        "id": "VomdAnCrzEv1"
      }
    },
    {
      "cell_type": "markdown",
      "source": [
        "## 1.   Dado um conjunto de arranjos ***A[5,...,1000, passo=5]***"
      ],
      "metadata": {
        "id": "3QKV979kzItD"
      }
    },
    {
      "cell_type": "code",
      "source": [
        "arrAsc = gera_arranjo_ordenado(1000)\n",
        "arrDesc = gera_arranjo_desordenado(1000)\n",
        "arrRand = gera_arranjos_aleatorio(200)\n",
        "\n",
        "print(arrAsc)\n",
        "print(arrDesc)\n",
        "print(arrRand)\n"
      ],
      "metadata": {
        "colab": {
          "base_uri": "https://localhost:8080/"
        },
        "id": "TKbD7jzo8LKk",
        "outputId": "927199f1-5506-4694-dee6-58b86e76ac9d"
      },
      "execution_count": null,
      "outputs": [
        {
          "output_type": "stream",
          "name": "stdout",
          "text": [
            "[  1   6  11  16  21  26  31  36  41  46  51  56  61  66  71  76  81  86\n",
            "  91  96 101 106 111 116 121 126 131 136 141 146 151 156 161 166 171 176\n",
            " 181 186 191 196 201 206 211 216 221 226 231 236 241 246 251 256 261 266\n",
            " 271 276 281 286 291 296 301 306 311 316 321 326 331 336 341 346 351 356\n",
            " 361 366 371 376 381 386 391 396 401 406 411 416 421 426 431 436 441 446\n",
            " 451 456 461 466 471 476 481 486 491 496 501 506 511 516 521 526 531 536\n",
            " 541 546 551 556 561 566 571 576 581 586 591 596 601 606 611 616 621 626\n",
            " 631 636 641 646 651 656 661 666 671 676 681 686 691 696 701 706 711 716\n",
            " 721 726 731 736 741 746 751 756 761 766 771 776 781 786 791 796 801 806\n",
            " 811 816 821 826 831 836 841 846 851 856 861 866 871 876 881 886 891 896\n",
            " 901 906 911 916 921 926 931 936 941 946 951 956 961 966 971 976 981 986\n",
            " 991 996]\n",
            "[1000  995  990  985  980  975  970  965  960  955  950  945  940  935\n",
            "  930  925  920  915  910  905  900  895  890  885  880  875  870  865\n",
            "  860  855  850  845  840  835  830  825  820  815  810  805  800  795\n",
            "  790  785  780  775  770  765  760  755  750  745  740  735  730  725\n",
            "  720  715  710  705  700  695  690  685  680  675  670  665  660  655\n",
            "  650  645  640  635  630  625  620  615  610  605  600  595  590  585\n",
            "  580  575  570  565  560  555  550  545  540  535  530  525  520  515\n",
            "  510  505  500  495  490  485  480  475  470  465  460  455  450  445\n",
            "  440  435  430  425  420  415  410  405  400  395  390  385  380  375\n",
            "  370  365  360  355  350  345  340  335  330  325  320  315  310  305\n",
            "  300  295  290  285  280  275  270  265  260  255  250  245  240  235\n",
            "  230  225  220  215  210  205  200  195  190  185  180  175  170  165\n",
            "  160  155  150  145  140  135  130  125  120  115  110  105  100   95\n",
            "   90   85   80   75   70   65   60   55   50   45   40   35   30   25\n",
            "   20   15   10    5]\n",
            "[920 614 844 911 624 235 952 576 879 945 424 338 822 589 920 578 890 363\n",
            " 392 112 463 262 322 485 942  69 656 854  89  96 168 934 597 945 856  97\n",
            " 988 714 423 726 473 762 884 566 473 891 312  92 569 889  81 364 100 558\n",
            " 362 223  62 159 660 983 133 274 987 508 121 312 632 965 189 986 330 215\n",
            " 656 537 243 241 845  47 230 908 482 157  64 650 212 482 932 873 651 407\n",
            " 421 838 717 868 237 110 619 841 229 683 802 751 293 427 900 227 748 321\n",
            " 255 184 462 578 212 870  15 801 951 901 793 443 872 502 797 108 931 171\n",
            " 508 770 841 729 627 561 442 604 937  84 652 216 301 700 557 388  53 460\n",
            "  28 483 401 981 868 381 337 504 275 676  48 580 510 304 481 793 335 186\n",
            " 461   8 800 704 636 292 873 352 874 921  86 361 431 724 704 354  99 780\n",
            " 615 641 587 872 258 482 708 166 167 222 130 650 445 141 198 250 474 476\n",
            " 838  29]\n"
          ]
        }
      ]
    },
    {
      "cell_type": "markdown",
      "source": [
        "> a) Defina o melhor e pior caso para cada um dos algoritmos definidos acima, crie vetores ***A*** para estes casos e faça a comparação gráficamente também com casos aleatórios (plote um gráfico para cada algoritmo). Conte o numero de comparações realzizadas para cada uma das execuções.\n",
        "\n",
        "> b) Repita o procedimento acima. Porém compare os algoritmos para pior e melhor caso e também casos aleatórios.\n"
      ],
      "metadata": {
        "id": "PxJz3EIw8MFV"
      }
    },
    {
      "cell_type": "markdown",
      "source": [
        "### Insertion Sort"
      ],
      "metadata": {
        "id": "Htcx0pJjfR7f"
      }
    },
    {
      "cell_type": "code",
      "source": [
        "# Insertion Sort\n",
        "# Melhor caso: array já ordenado (crescente)\n",
        "# Pior caso: array ordenado (decrescente)\n",
        "\n",
        "bIns = []\n",
        "mIns = []\n",
        "wIns = []\n",
        "bInsTime = []\n",
        "mInsTime = []\n",
        "wInsTime = []\n",
        "bInsCont = []\n",
        "mInsCont = []\n",
        "wInsCont = []\n",
        "\n",
        "for i in range (5, 1000, 5):\n",
        "  array = gera_arranjo_ordenado(i)\n",
        "  bIns.append(insertionSort(array))\n",
        "  array= gera_arranjo_desordenado(i)\n",
        "  wIns.append(insertionSort(array))\n",
        "  array = gera_arranjos_aleatorio(i)\n",
        "  mIns.append(insertionSort(array))\n",
        "\n",
        "for i in range(len(bIns)):\n",
        "  bInsTime.append(bIns[i][1])\n",
        "  mInsTime.append(mIns[i][1])\n",
        "  wInsTime.append(wIns[i][1])\n",
        "  bInsCont.append(bIns[i][2])\n",
        "  mInsCont.append(mIns[i][2])\n",
        "  wInsCont.append(wIns[i][2])\n",
        "\n",
        "plt.plot(n_elementos, bInsTime, label = \"Melhor Caso\")\n",
        "plt.plot(n_elementos, mInsTime, label = \"Caso Médio\")\n",
        "plt.plot(n_elementos, wInsTime, label = \"Pior Caso\")\n",
        "plt.ylabel('Tempo (s)')\n",
        "plt.xlabel('Qtd. de elementos')\n",
        "plt.legend()\n",
        "plt.show()"
      ],
      "metadata": {
        "colab": {
          "base_uri": "https://localhost:8080/",
          "height": 279
        },
        "id": "GxvLgR0AdxZ-",
        "outputId": "4e9594bb-bbeb-492f-b785-118c34cc752b"
      },
      "execution_count": null,
      "outputs": [
        {
          "output_type": "display_data",
          "data": {
            "text/plain": [
              "<Figure size 432x288 with 1 Axes>"
            ],
            "image/png": "[encoded data removed]"
          },
          "metadata": {
            "needs_background": "light"
          }
        }
      ]
    },
    {
      "cell_type": "markdown",
      "source": [
        "### Merge Sort"
      ],
      "metadata": {
        "id": "Skp0rZMffVQt"
      }
    },
    {
      "cell_type": "code",
      "source": [
        "# Merge Sort\n",
        "# Melhor caso e pior caso: iguais\n",
        "\n",
        "bMerg = []\n",
        "mMerg = []\n",
        "wMerg = []\n",
        "bMergTime = []\n",
        "mMergTime = []\n",
        "wMergTime = []\n",
        "bMergCont = []\n",
        "mMergCont = []\n",
        "wMergCont = []\n",
        "\n",
        "for i in range (5, 1000, 5):\n",
        "  array = gera_arranjo_ordenado(i)\n",
        "  bMerg.append(mergeSort(array, 0,len(array)-1))\n",
        "  array= gera_arranjo_desordenado(i)\n",
        "  wMerg.append(mergeSort(array, 0,len(array)-1))\n",
        "  array = gera_arranjos_aleatorio(i)\n",
        "  mMerg.append(mergeSort(array, 0,len(array)-1))\n",
        "\n",
        "for i in range(len(bMerg)):\n",
        "  bMergTime.append(bMerg[i][1])\n",
        "  mMergTime.append(mMerg[i][1])\n",
        "  wMergTime.append(wMerg[i][1])\n",
        "  bMergCont.append(bMerg[i][2])\n",
        "  mMergCont.append(mMerg[i][2])\n",
        "  wMergCont.append(wMerg[i][2])\n",
        "\n",
        "plt.plot(n_elementos, bMergTime, label = \"Melhor Caso\")\n",
        "plt.plot(n_elementos, mMergTime, label = \"Caso Médio\")\n",
        "plt.plot(n_elementos, wMergTime, label = \"Pior Caso\")\n",
        "plt.ylabel('Tempo (s)')\n",
        "plt.xlabel('Qtd. de elementos')\n",
        "plt.legend()\n",
        "plt.show()"
      ],
      "metadata": {
        "colab": {
          "base_uri": "https://localhost:8080/",
          "height": 279
        },
        "id": "K-I7eSadKT0g",
        "outputId": "7f3b365d-f39d-405d-ca05-a4622ad8d085"
      },
      "execution_count": null,
      "outputs": [
        {
          "output_type": "display_data",
          "data": {
            "text/plain": [
              "<Figure size 432x288 with 1 Axes>"
            ],
            "image/png": "[encoded data removed]"
          },
          "metadata": {
            "needs_background": "light"
          }
        }
      ]
    },
    {
      "cell_type": "markdown",
      "source": [
        "### Selection Sort"
      ],
      "metadata": {
        "id": "DMss3j4RfWkO"
      }
    },
    {
      "cell_type": "code",
      "source": [
        "# Selection Sort\n",
        "# Melhor caso e pior caso: iguais\n",
        "\n",
        "bSel = []\n",
        "mSel = []\n",
        "wSel = []\n",
        "bSelTime = []\n",
        "mSelTime = []\n",
        "wSelTime = []\n",
        "bSelCont = []\n",
        "mSelCont = []\n",
        "wSelCont = []\n",
        "\n",
        "for i in range (5, 1000, 5):\n",
        "  array = gera_arranjo_ordenado(i)\n",
        "  bSel.append(selectionSort(array))\n",
        "  array= gera_arranjo_desordenado(i)\n",
        "  wSel.append(selectionSort(array))\n",
        "  array = gera_arranjos_aleatorio(i)\n",
        "  mSel.append(selectionSort(array))\n",
        "\n",
        "for i in range(len(bSel)):\n",
        "  bSelTime.append(bSel[i][1])\n",
        "  mSelTime.append(mSel[i][1])\n",
        "  wSelTime.append(wSel[i][1])\n",
        "  bSelCont.append(bSel[i][2])\n",
        "  mSelCont.append(mSel[i][2])\n",
        "  wSelCont.append(wSel[i][2])\n",
        "\n",
        "plt.plot(n_elementos, bSelTime, label = \"Melhor Caso\")\n",
        "plt.plot(n_elementos, mSelTime, label = \"Caso Médio\")\n",
        "plt.plot(n_elementos, wSelTime, label = \"Pior Caso\")\n",
        "plt.ylabel('Tempo (s)')\n",
        "plt.xlabel('Qtd. de elementos')\n",
        "plt.legend()\n",
        "plt.show()"
      ],
      "metadata": {
        "colab": {
          "base_uri": "https://localhost:8080/",
          "height": 279
        },
        "id": "NBcdSy7eJm41",
        "outputId": "c995cb9f-819f-4ea3-94cf-4be93336145d"
      },
      "execution_count": null,
      "outputs": [
        {
          "output_type": "display_data",
          "data": {
            "text/plain": [
              "<Figure size 432x288 with 1 Axes>"
            ],
            "image/png": "[encoded data removed]"
          },
          "metadata": {
            "needs_background": "light"
          }
        }
      ]
    },
    {
      "cell_type": "markdown",
      "source": [
        "### Bubble Sort"
      ],
      "metadata": {
        "id": "XEfwPD0efZ5i"
      }
    },
    {
      "cell_type": "code",
      "source": [
        "# Bubble Sort\n",
        "# Melhor caso: crescente\n",
        "# Pior caso: decrescente\n",
        "\n",
        "bBub = []\n",
        "mBub = []\n",
        "wBub = []\n",
        "bBubTime = []\n",
        "mBubTime = []\n",
        "wBubTime = []\n",
        "bBubCont = []\n",
        "mBubCont = []\n",
        "wBubCont = []\n",
        "\n",
        "for i in range (5, 1000, 5):\n",
        "  array = gera_arranjo_ordenado(i)\n",
        "  bBub.append(bubbleSort(array))\n",
        "  array= gera_arranjo_desordenado(i)\n",
        "  wBub.append(bubbleSort(array))\n",
        "  array = gera_arranjos_aleatorio(i)\n",
        "  mBub.append(bubbleSort(array))\n",
        "\n",
        "for i in range(len(bBub)):\n",
        "  bBubTime.append(bBub[i][1])\n",
        "  mBubTime.append(mBub[i][1])\n",
        "  wBubTime.append(wBub[i][1])\n",
        "  bBubCont.append(bBub[i][2])\n",
        "  mBubCont.append(mBub[i][2])\n",
        "  wBubCont.append(wBub[i][2])\n",
        "\n",
        "plt.plot(n_elementos, bBubTime, label = \"Melhor Caso\")\n",
        "plt.plot(n_elementos, mBubTime, label = \"Caso Médio\")\n",
        "plt.plot(n_elementos, wBubTime, label = \"Pior Caso\")\n",
        "plt.ylabel('Tempo (s)')\n",
        "plt.xlabel('Qtd. de elementos')\n",
        "plt.legend()\n",
        "plt.show()"
      ],
      "metadata": {
        "colab": {
          "base_uri": "https://localhost:8080/",
          "height": 279
        },
        "id": "1371lbOCew6M",
        "outputId": "ebd6c5c2-7585-4565-bd92-97ca0b5a24dc"
      },
      "execution_count": null,
      "outputs": [
        {
          "output_type": "display_data",
          "data": {
            "text/plain": [
              "<Figure size 432x288 with 1 Axes>"
            ],
            "image/png": "[encoded data removed]"
          },
          "metadata": {
            "needs_background": "light"
          }
        }
      ]
    },
    {
      "cell_type": "markdown",
      "source": [
        "### Heap Sort"
      ],
      "metadata": {
        "id": "5to4tMqBfkvo"
      }
    },
    {
      "cell_type": "code",
      "source": [
        "# Heap Sort\n",
        "# Melhor caso: elementos iguais\n",
        "# Pior caso: todos serem diferentes\n",
        "\n",
        "bHeap = []\n",
        "mHeap = []\n",
        "wHeap = []\n",
        "bHeapTime = []\n",
        "mHeapTime = []\n",
        "wHeapTime = []\n",
        "bHeapCont = []\n",
        "mHeapCont = []\n",
        "wHeapCont = []\n",
        "\n",
        "for i in range (5, 1000, 5):\n",
        "  array = [1, 1, 1, 1, 1, 1, 1, 1, 1, 1, 1, 1, 1, 1, 1, 1, 1, 1, 1, 1, 1, 1, 1, 1, 1, 1, 1, 1, 1, 1, 1, 1, 1, 1]\n",
        "  bHeap.append(heapSort(array))\n",
        "  array= gera_arranjo_desordenado(i)\n",
        "  wHeap.append(heapSort(array))\n",
        "  array = gera_arranjos_aleatorio(i)\n",
        "  mHeap.append(heapSort(array))\n",
        "\n",
        "for i in range(len(bHeap)):\n",
        "  bHeapTime.append(bHeap[i][1])\n",
        "  mHeapTime.append(mHeap[i][1])\n",
        "  wHeapTime.append(wHeap[i][1])\n",
        "  bHeapCont.append(bHeap[i][2])\n",
        "  mHeapCont.append(mHeap[i][2])\n",
        "  wHeapCont.append(wHeap[i][2])\n",
        "\n",
        "plt.plot(n_elementos, bHeapTime, label = \"Melhor Caso\")\n",
        "plt.plot(n_elementos, mHeapTime, label = \"Caso Médio\")\n",
        "plt.plot(n_elementos, wHeapTime, label = \"Pior Caso\")\n",
        "plt.ylabel('Tempo (s)')\n",
        "plt.xlabel('Qtd. de elementos')\n",
        "plt.legend()\n",
        "plt.show()"
      ],
      "metadata": {
        "colab": {
          "base_uri": "https://localhost:8080/",
          "height": 279
        },
        "id": "YC5dKFiCfoF6",
        "outputId": "5a4bc4dd-d46b-4f15-8554-aa43e9414e0a"
      },
      "execution_count": null,
      "outputs": [
        {
          "output_type": "display_data",
          "data": {
            "text/plain": [
              "<Figure size 432x288 with 1 Axes>"
            ],
            "image/png": "[encoded data removed]"
          },
          "metadata": {
            "needs_background": "light"
          }
        }
      ]
    },
    {
      "cell_type": "markdown",
      "source": [
        "### Quick Sort"
      ],
      "metadata": {
        "id": "VwL7dXtYfmfy"
      }
    },
    {
      "cell_type": "code",
      "source": [
        "# Quick Sort\n",
        "# Melhor caso e pior caso: iguais\n",
        "\n",
        "bQuick = []\n",
        "mQuick = []\n",
        "wQuick = []\n",
        "bQuickTime = []\n",
        "mQuickTime = []\n",
        "wQuickTime = []\n",
        "bQuickCont = []\n",
        "mQuickCont = []\n",
        "wQuickCont = []\n",
        "\n",
        "for i in range (5, 1000, 5):\n",
        "  array = gera_arranjo_ordenado(i)\n",
        "  bQuick.append(quickSort(array))\n",
        "  array= gera_arranjo_desordenado(i)\n",
        "  wQuick.append(quickSort(array))\n",
        "  array = gera_arranjos_aleatorio(i)\n",
        "  mQuick.append(quickSort(array))\n",
        "\n",
        "for i in range(len(bQuick)):\n",
        "  bQuickTime.append(bQuick[i][1])\n",
        "  mQuickTime.append(mQuick[i][1])\n",
        "  wQuickTime.append(wQuick[i][1])\n",
        "  bQuickCont.append(bQuick[i][2])\n",
        "  mQuickCont.append(mQuick[i][2])\n",
        "  wQuickCont.append(wQuick[i][2])\n",
        "\n",
        "plt.plot(n_elementos, bQuickTime, label = \"Melhor Caso\")\n",
        "plt.plot(n_elementos, mQuickTime, label = \"Caso Médio\")\n",
        "plt.plot(n_elementos, wQuickTime, label = \"Pior Caso\")\n",
        "plt.ylabel('Tempo (s)')\n",
        "plt.xlabel('Qtd. de elementos')\n",
        "plt.legend()\n",
        "plt.show()"
      ],
      "metadata": {
        "colab": {
          "base_uri": "https://localhost:8080/",
          "height": 279
        },
        "id": "jhrnzXE5fp8Y",
        "outputId": "c16ac529-73ee-4dde-9f3e-0e0f24cd8da6"
      },
      "execution_count": null,
      "outputs": [
        {
          "output_type": "display_data",
          "data": {
            "text/plain": [
              "<Figure size 432x288 with 1 Axes>"
            ],
            "image/png": "[encoded data removed]"
          },
          "metadata": {
            "needs_background": "light"
          }
        }
      ]
    },
    {
      "cell_type": "markdown",
      "source": [
        "> c) Qual é o comportamento assintótico para cada um dos algorítmos acima (melhor caso e pior caso, se puder, analise também em casos aleatórios)\n",
        "\n",
        "\n",
        "\n",
        "**Obs.:** para os algoritmos QuickSort e Merge Sort mostre apenas um melhor e um pior caso. faça a comparação com os demais métodos com o conjunto ***A*** apenas em casos aleatórios.\n",
        "\n"
      ],
      "metadata": {
        "id": "pEINTmXkO3N3"
      }
    },
    {
      "cell_type": "markdown",
      "source": [
        "Complexidades:\n",
        "\n",
        "* Insertion Sort\n",
        "  * Melhor caso: 𝛀(n)\t\n",
        "  * Pior caso: O(n²)\t\n",
        "  * Caso aleatório: Θ(n²)\n",
        "* Merge Sort\n",
        "  * Melhor caso: 𝛀(n * log(n))\n",
        "  * Pior caso: O(n * log(n))\n",
        "  * Caso aleatório: Θ(n * log(n))\n",
        "* Selection Sort\n",
        "  * Melhor caso: 𝛀(n²)\n",
        "  * Pior caso: O(n²)\t\n",
        "  * Caso aleatório: Θ(n²)\n",
        "* Bubble Sort\n",
        "  * Melhor caso: 𝛀(n)\t\n",
        "  * Pior caso: O(n²)\n",
        "  * Caso aleatório: Θ(n²)\n",
        "* Heap Sort\n",
        "  * Melhor caso: 𝛀(n * log(n))\n",
        "  * Pior caso: O(n * log(n))\n",
        "  * Caso aleatório: Θ(n * log(n))\n",
        "* Quick Sort\n",
        "  * Melhor caso: 𝛀(n * log(n))\n",
        "  * Pior caso: O(n * log(n))\n",
        "  * Caso aleatório: Θ(n * log(n))"
      ],
      "metadata": {
        "id": "es9rapyEhoL8"
      }
    },
    {
      "cell_type": "markdown",
      "source": [
        "## 2.   Desenvolda uma versão aleatorizada do QUICKSORT (pivo aleatório) e compare com a versão apresentada em sala de aula e definida acima.\n",
        "\n",
        "A versão aleatorizada do Quick Sort visa resolver os piores casos, fazendo com que tenha uma diminuição da probabilidade de ocorrência. Assim, a execução desse código é mais rápida.\n"
      ],
      "metadata": {
        "id": "9hhEkQam21NC"
      }
    },
    {
      "cell_type": "code",
      "source": [
        "def partition(arranjo,p,r,comp):\n",
        "  pivo = arranjo[np.random.randint(0, r)]\n",
        "  i = p\n",
        "  comp+=1 \n",
        "  for j in range(p, r):\n",
        "    comp+=1\n",
        "    if arranjo[j]<=pivo:\n",
        "      aux = arranjo[i]\n",
        "      arranjo[i] = arranjo[j]\n",
        "      arranjo[j] = aux\n",
        "      i+=1\n",
        "  comp+=1\n",
        "      \n",
        "\n",
        "  aux = arranjo[i]\n",
        "  arranjo[i] = arranjo[r]\n",
        "  arranjo[r] = aux\n",
        "  return i, comp\n",
        "\n",
        "\n",
        "def quickA(array, start, end, nComp):\n",
        "  if start < end:\n",
        "    nComp = nComp + 1\n",
        "    meio, nComp = partition(array, start, end, nComp)\n",
        "    quickA(array,start,meio-1, nComp)\n",
        "    quickA(array,meio+1,end, nComp)\n",
        "  return array, nComp\n",
        "\n",
        "def quickSortA(array):\n",
        "  ini = time.time()\n",
        "  nComp = 1\n",
        "  array, nComp = quickA(array, 0, len(array)-1, nComp)\n",
        "  fim = time.time()\n",
        "  temp_exec = fim - ini\n",
        "  return array, temp_exec, nComp"
      ],
      "metadata": {
        "id": "RRd20Rm4n7Tc"
      },
      "execution_count": null,
      "outputs": []
    },
    {
      "cell_type": "code",
      "source": [
        "arrOrd = gera_arranjo_desordenado(1000)\n",
        "print(arrOrd)\n",
        "\n",
        "print(quickSortA(arrOrd)[1])\n",
        "print(quickSort(arrOrd)[1])"
      ],
      "metadata": {
        "colab": {
          "base_uri": "https://localhost:8080/"
        },
        "id": "g8GoyoR8n-qa",
        "outputId": "6851e521-e4e6-4735-a089-eb8ca45debb0"
      },
      "execution_count": null,
      "outputs": [
        {
          "output_type": "stream",
          "name": "stdout",
          "text": [
            "[1000  995  990  985  980  975  970  965  960  955  950  945  940  935\n",
            "  930  925  920  915  910  905  900  895  890  885  880  875  870  865\n",
            "  860  855  850  845  840  835  830  825  820  815  810  805  800  795\n",
            "  790  785  780  775  770  765  760  755  750  745  740  735  730  725\n",
            "  720  715  710  705  700  695  690  685  680  675  670  665  660  655\n",
            "  650  645  640  635  630  625  620  615  610  605  600  595  590  585\n",
            "  580  575  570  565  560  555  550  545  540  535  530  525  520  515\n",
            "  510  505  500  495  490  485  480  475  470  465  460  455  450  445\n",
            "  440  435  430  425  420  415  410  405  400  395  390  385  380  375\n",
            "  370  365  360  355  350  345  340  335  330  325  320  315  310  305\n",
            "  300  295  290  285  280  275  270  265  260  255  250  245  240  235\n",
            "  230  225  220  215  210  205  200  195  190  185  180  175  170  165\n",
            "  160  155  150  145  140  135  130  125  120  115  110  105  100   95\n",
            "   90   85   80   75   70   65   60   55   50   45   40   35   30   25\n",
            "   20   15   10    5]\n",
            "0.002270936965942383\n",
            "0.00416254997253418\n"
          ]
        }
      ]
    },
    {
      "cell_type": "code",
      "source": [
        "# Quick Sort Aleat\n",
        "# Melhor caso e pior caso: iguais\n",
        "\n",
        "bQuick = []\n",
        "mQuick = []\n",
        "wQuick = []\n",
        "bQuickTime = []\n",
        "mQuickTime = []\n",
        "wQuickTime = []\n",
        "bQuickCont = []\n",
        "mQuickCont = []\n",
        "wQuickCont = []\n",
        "\n",
        "for i in range (5, 1000, 5):\n",
        "  array = gera_arranjo_ordenado(i)\n",
        "  bQuick.append(quickSort(array))\n",
        "  array= gera_arranjo_desordenado(i)\n",
        "  wQuick.append(quickSort(array))\n",
        "  array = gera_arranjos_aleatorio(i)\n",
        "  mQuick.append(quickSort(array))\n",
        "\n",
        "for i in range(len(bQuick)):\n",
        "  bQuickTime.append(bQuick[i][1])\n",
        "  mQuickTime.append(mQuick[i][1])\n",
        "  wQuickTime.append(wQuick[i][1])\n",
        "  bQuickCont.append(bQuick[i][2])\n",
        "  mQuickCont.append(mQuick[i][2])\n",
        "  wQuickCont.append(wQuick[i][2])\n",
        "\n",
        "plt.plot(n_elementos, bQuickTime, label = \"Melhor Caso\")\n",
        "plt.plot(n_elementos, mQuickTime, label = \"Caso Médio\")\n",
        "plt.plot(n_elementos, wQuickTime, label = \"Pior Caso\")\n",
        "plt.ylabel('Tempo (s)')\n",
        "plt.xlabel('Qtd. de elementos')\n",
        "plt.legend()\n",
        "plt.show()"
      ],
      "metadata": {
        "colab": {
          "base_uri": "https://localhost:8080/",
          "height": 279
        },
        "id": "IW54T9UvshkQ",
        "outputId": "7a4d7cdb-d777-438c-d1f4-785bf38e1aa8"
      },
      "execution_count": null,
      "outputs": [
        {
          "output_type": "display_data",
          "data": {
            "text/plain": [
              "<Figure size 432x288 with 1 Axes>"
            ],
            "image/png": "[encoded data removed]"
          },
          "metadata": {
            "needs_background": "light"
          }
        }
      ]
    },
    {
      "cell_type": "code",
      "source": [
        "print(\"Boa sorte!!!\")"
      ],
      "metadata": {
        "colab": {
          "base_uri": "https://localhost:8080/"
        },
        "id": "nBfs279_1Vko",
        "outputId": "c3629765-0c02-4f72-cc57-aa60da65f927"
      },
      "execution_count": null,
      "outputs": [
        {
          "output_type": "stream",
          "name": "stdout",
          "text": [
            "Boa sorte!!!\n"
          ]
        }
      ]
    }
  ]
}